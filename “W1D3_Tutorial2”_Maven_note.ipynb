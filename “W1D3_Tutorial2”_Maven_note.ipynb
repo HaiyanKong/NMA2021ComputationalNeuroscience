{
  "nbformat": 4,
  "nbformat_minor": 0,
  "metadata": {
    "celltoolbar": "Slideshow",
    "colab": {
      "provenance": [],
      "collapsed_sections": [],
      "toc_visible": true,
      "include_colab_link": true
    },
    "kernel": {
      "display_name": "Python 3",
      "language": "python",
      "name": "python3"
    },
    "kernelspec": {
      "display_name": "Python 3",
      "language": "python",
      "name": "python3"
    },
    "language_info": {
      "codemirror_mode": {
        "name": "ipython",
        "version": 3
      },
      "file_extension": ".py",
      "mimetype": "text/x-python",
      "name": "python",
      "nbconvert_exporter": "python",
      "pygments_lexer": "ipython3",
      "version": "3.7.10"
    },
    "widgets": {
      "application/vnd.jupyter.widget-state+json": {
        "43e2a7f81abc45049f4c8be0c6cbf03a": {
          "model_module": "@jupyter-widgets/controls",
          "model_name": "VBoxModel",
          "state": {
            "_view_name": "VBoxView",
            "_dom_classes": [
              "widget-interact"
            ],
            "_model_name": "VBoxModel",
            "_view_module": "@jupyter-widgets/controls",
            "_model_module_version": "1.5.0",
            "_view_count": null,
            "_view_module_version": "1.5.0",
            "box_style": "",
            "layout": "IPY_MODEL_18bb68734a2748b191b02f72bcabb4fa",
            "_model_module": "@jupyter-widgets/controls",
            "children": [
              "IPY_MODEL_e6bbf30ba0a64f028b075556b98365b0",
              "IPY_MODEL_a718099e24864e1ea060ebbdddccb588",
              "IPY_MODEL_25669162abf54409992b5c1815e9b818"
            ]
          },
          "model_module_version": "1.5.0"
        },
        "18bb68734a2748b191b02f72bcabb4fa": {
          "model_module": "@jupyter-widgets/base",
          "model_name": "LayoutModel",
          "state": {
            "_view_name": "LayoutView",
            "grid_template_rows": null,
            "right": null,
            "justify_content": null,
            "_view_module": "@jupyter-widgets/base",
            "overflow": null,
            "_model_module_version": "1.2.0",
            "_view_count": null,
            "flex_flow": null,
            "width": null,
            "min_width": null,
            "border": null,
            "align_items": null,
            "bottom": null,
            "_model_module": "@jupyter-widgets/base",
            "top": null,
            "grid_column": null,
            "overflow_y": null,
            "overflow_x": null,
            "grid_auto_flow": null,
            "grid_area": null,
            "grid_template_columns": null,
            "flex": null,
            "_model_name": "LayoutModel",
            "justify_items": null,
            "grid_row": null,
            "max_height": null,
            "align_content": null,
            "visibility": null,
            "align_self": null,
            "height": null,
            "min_height": null,
            "padding": null,
            "grid_auto_rows": null,
            "grid_gap": null,
            "max_width": null,
            "order": null,
            "_view_module_version": "1.2.0",
            "grid_template_areas": null,
            "object_position": null,
            "object_fit": null,
            "grid_auto_columns": null,
            "margin": null,
            "display": null,
            "left": null
          },
          "model_module_version": "1.2.0"
        },
        "e6bbf30ba0a64f028b075556b98365b0": {
          "model_module": "@jupyter-widgets/controls",
          "model_name": "FloatSliderModel",
          "state": {
            "_view_name": "FloatSliderView",
            "style": "IPY_MODEL_d10094f63d724beba49be5b22bb07f93",
            "_dom_classes": [],
            "description": "mu",
            "step": 0.1,
            "_model_name": "FloatSliderModel",
            "orientation": "horizontal",
            "max": 2,
            "_view_module": "@jupyter-widgets/controls",
            "_model_module_version": "1.5.0",
            "value": 0,
            "_view_count": null,
            "disabled": false,
            "_view_module_version": "1.5.0",
            "min": -2,
            "continuous_update": true,
            "readout_format": ".2f",
            "description_tooltip": null,
            "readout": true,
            "_model_module": "@jupyter-widgets/controls",
            "layout": "IPY_MODEL_4b59db4861a24cf4b5b01e51a372518e"
          },
          "model_module_version": "1.5.0"
        },
        "a718099e24864e1ea060ebbdddccb588": {
          "model_module": "@jupyter-widgets/controls",
          "model_name": "FloatSliderModel",
          "state": {
            "_view_name": "FloatSliderView",
            "style": "IPY_MODEL_fb09bd81e75a4aac82421dcb11d71449",
            "_dom_classes": [],
            "description": "sigma",
            "step": 0.1,
            "_model_name": "FloatSliderModel",
            "orientation": "horizontal",
            "max": 2,
            "_view_module": "@jupyter-widgets/controls",
            "_model_module_version": "1.5.0",
            "value": 1,
            "_view_count": null,
            "disabled": false,
            "_view_module_version": "1.5.0",
            "min": 0.5,
            "continuous_update": true,
            "readout_format": ".2f",
            "description_tooltip": null,
            "readout": true,
            "_model_module": "@jupyter-widgets/controls",
            "layout": "IPY_MODEL_ad4190de120743a4bee5b7df4a1b41e1"
          },
          "model_module_version": "1.5.0"
        },
        "25669162abf54409992b5c1815e9b818": {
          "model_module": "@jupyter-widgets/output",
          "model_name": "OutputModel",
          "state": {
            "_view_name": "OutputView",
            "msg_id": "",
            "_dom_classes": [],
            "_model_name": "OutputModel",
            "outputs": [
              {
                "output_type": "display_data",
                "metadata": {
                  "tags": [],
                  "image/png": {
                    "width": 558,
                    "height": 413
                  },
                  "needs_background": "light"
                },
                "image/png": "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\n",
                "text/plain": "<Figure size 576x432 with 1 Axes>"
              }
            ],
            "_view_module": "@jupyter-widgets/output",
            "_model_module_version": "1.0.0",
            "_view_count": null,
            "_view_module_version": "1.0.0",
            "layout": "IPY_MODEL_e6cc597767e84563a98c399339fcba83",
            "_model_module": "@jupyter-widgets/output"
          },
          "model_module_version": "1.0.0"
        },
        "d10094f63d724beba49be5b22bb07f93": {
          "model_module": "@jupyter-widgets/controls",
          "model_name": "SliderStyleModel",
          "state": {
            "_view_name": "StyleView",
            "handle_color": null,
            "_model_name": "SliderStyleModel",
            "description_width": "",
            "_view_module": "@jupyter-widgets/base",
            "_model_module_version": "1.5.0",
            "_view_count": null,
            "_view_module_version": "1.2.0",
            "_model_module": "@jupyter-widgets/controls"
          },
          "model_module_version": "1.5.0"
        },
        "4b59db4861a24cf4b5b01e51a372518e": {
          "model_module": "@jupyter-widgets/base",
          "model_name": "LayoutModel",
          "state": {
            "_view_name": "LayoutView",
            "grid_template_rows": null,
            "right": null,
            "justify_content": null,
            "_view_module": "@jupyter-widgets/base",
            "overflow": null,
            "_model_module_version": "1.2.0",
            "_view_count": null,
            "flex_flow": null,
            "width": null,
            "min_width": null,
            "border": null,
            "align_items": null,
            "bottom": null,
            "_model_module": "@jupyter-widgets/base",
            "top": null,
            "grid_column": null,
            "overflow_y": null,
            "overflow_x": null,
            "grid_auto_flow": null,
            "grid_area": null,
            "grid_template_columns": null,
            "flex": null,
            "_model_name": "LayoutModel",
            "justify_items": null,
            "grid_row": null,
            "max_height": null,
            "align_content": null,
            "visibility": null,
            "align_self": null,
            "height": null,
            "min_height": null,
            "padding": null,
            "grid_auto_rows": null,
            "grid_gap": null,
            "max_width": null,
            "order": null,
            "_view_module_version": "1.2.0",
            "grid_template_areas": null,
            "object_position": null,
            "object_fit": null,
            "grid_auto_columns": null,
            "margin": null,
            "display": null,
            "left": null
          },
          "model_module_version": "1.2.0"
        },
        "fb09bd81e75a4aac82421dcb11d71449": {
          "model_module": "@jupyter-widgets/controls",
          "model_name": "SliderStyleModel",
          "state": {
            "_view_name": "StyleView",
            "handle_color": null,
            "_model_name": "SliderStyleModel",
            "description_width": "",
            "_view_module": "@jupyter-widgets/base",
            "_model_module_version": "1.5.0",
            "_view_count": null,
            "_view_module_version": "1.2.0",
            "_model_module": "@jupyter-widgets/controls"
          },
          "model_module_version": "1.5.0"
        },
        "ad4190de120743a4bee5b7df4a1b41e1": {
          "model_module": "@jupyter-widgets/base",
          "model_name": "LayoutModel",
          "state": {
            "_view_name": "LayoutView",
            "grid_template_rows": null,
            "right": null,
            "justify_content": null,
            "_view_module": "@jupyter-widgets/base",
            "overflow": null,
            "_model_module_version": "1.2.0",
            "_view_count": null,
            "flex_flow": null,
            "width": null,
            "min_width": null,
            "border": null,
            "align_items": null,
            "bottom": null,
            "_model_module": "@jupyter-widgets/base",
            "top": null,
            "grid_column": null,
            "overflow_y": null,
            "overflow_x": null,
            "grid_auto_flow": null,
            "grid_area": null,
            "grid_template_columns": null,
            "flex": null,
            "_model_name": "LayoutModel",
            "justify_items": null,
            "grid_row": null,
            "max_height": null,
            "align_content": null,
            "visibility": null,
            "align_self": null,
            "height": null,
            "min_height": null,
            "padding": null,
            "grid_auto_rows": null,
            "grid_gap": null,
            "max_width": null,
            "order": null,
            "_view_module_version": "1.2.0",
            "grid_template_areas": null,
            "object_position": null,
            "object_fit": null,
            "grid_auto_columns": null,
            "margin": null,
            "display": null,
            "left": null
          },
          "model_module_version": "1.2.0"
        },
        "e6cc597767e84563a98c399339fcba83": {
          "model_module": "@jupyter-widgets/base",
          "model_name": "LayoutModel",
          "state": {
            "_view_name": "LayoutView",
            "grid_template_rows": null,
            "right": null,
            "justify_content": null,
            "_view_module": "@jupyter-widgets/base",
            "overflow": null,
            "_model_module_version": "1.2.0",
            "_view_count": null,
            "flex_flow": null,
            "width": null,
            "min_width": null,
            "border": null,
            "align_items": null,
            "bottom": null,
            "_model_module": "@jupyter-widgets/base",
            "top": null,
            "grid_column": null,
            "overflow_y": null,
            "overflow_x": null,
            "grid_auto_flow": null,
            "grid_area": null,
            "grid_template_columns": null,
            "flex": null,
            "_model_name": "LayoutModel",
            "justify_items": null,
            "grid_row": null,
            "max_height": null,
            "align_content": null,
            "visibility": null,
            "align_self": null,
            "height": null,
            "min_height": null,
            "padding": null,
            "grid_auto_rows": null,
            "grid_gap": null,
            "max_width": null,
            "order": null,
            "_view_module_version": "1.2.0",
            "grid_template_areas": null,
            "object_position": null,
            "object_fit": null,
            "grid_auto_columns": null,
            "margin": null,
            "display": null,
            "left": null
          },
          "model_module_version": "1.2.0"
        }
      }
    }
  },
  "cells": [
    {
      "cell_type": "markdown",
      "metadata": {
        "id": "view-in-github",
        "colab_type": "text"
      },
      "source": [
        "<a href=\"https://colab.research.google.com/github/HaiyanKong/NMA2021Computational-Neuroscience/blob/main/%E2%80%9CW1D3_Tutorial2%E2%80%9D_Maven_note.ipynb\" target=\"_parent\"><img src=\"https://colab.research.google.com/assets/colab-badge.svg\" alt=\"Open In Colab\"/></a>"
      ]
    },
    {
      "cell_type": "markdown",
      "metadata": {
        "id": "fwHPB29GrCU7"
      },
      "source": [
        "# Tutorial 2: Linear regression with MLE\n",
        "**Week 1, Day 3: Model Fitting**\n",
        "\n",
        "**By Neuromatch Academy**\n",
        "\n",
        "**Content creators**: Pierre-Étienne Fiquet, Anqi Wu, Alex Hyafil  with help from Byron Galbraith\n",
        "\n",
        "**Content reviewers**: Lina Teichmann, Madineh Sarvestani, Patrick Mineault, Ella Batty, Michael Waskom\n"
      ]
    },
    {
      "cell_type": "markdown",
      "metadata": {
        "id": "uMSn3NGvrCVA"
      },
      "source": [
        "**Our 2021 Sponsors, including Presenting Sponsor Facebook Reality Labs**\n",
        "\n",
        "<p align='center'><img src='https://github.com/NeuromatchAcademy/widgets/blob/master/sponsors.png?raw=True'/></p>"
      ]
    },
    {
      "cell_type": "markdown",
      "metadata": {
        "id": "ktg9yl5KrCVB"
      },
      "source": [
        "---\n",
        "# Tutorial Objectives\n",
        "\n",
        "*Estimated timing of tutorial: 30 minutes*\n",
        "\n",
        "This is Tutorial 2 of a series on fitting models to data. We start with simple linear regression, using least squares optimization (Tutorial 1) and Maximum Likelihood Estimation (Tutorial 2). We will use bootstrapping to build confidence intervals around the inferred linear model parameters (Tutorial 3). We'll finish our exploration of regression models by generalizing to multiple linear regression and polynomial regression (Tutorial 4). We end by learning how to choose between these various models. We discuss the bias-variance trade-off (Tutorial 5) and Cross Validation for model selection (Tutorial 6).\n",
        "\n",
        "In this tutorial, we will use a different approach to fit linear models that incorporates the random 'noise' in our data.\n",
        "- Learn about probability distributions and probabilistic models\n",
        "- Learn how to calculate the likelihood of our model parameters\n",
        "- Learn how to implement the maximum likelihood estimator, to find the model parameter with the maximum likelihood\n",
        "\n"
      ]
    },
    {
      "cell_type": "code",
      "metadata": {
        "cellView": "form",
        "execution": {
          "iopub.execute_input": "2021-07-06T22:27:35.855373Z",
          "iopub.status.busy": "2021-07-06T22:27:35.854774Z",
          "iopub.status.idle": "2021-07-06T22:27:35.869409Z",
          "shell.execute_reply": "2021-07-06T22:27:35.869796Z"
        },
        "id": "MrAeZbw2rCVC",
        "colab": {
          "base_uri": "https://localhost:8080/",
          "height": 501
        },
        "collapsed": true,
        "outputId": "2a9d34f3-5967-4276-f877-8bcb0e5ef5ed"
      },
      "source": [
        "# @title Tutorial slides\n",
        "\n",
        "# @markdown These are the slides for the videos in all tutorials today\n",
        "from IPython.display import IFrame\n",
        "IFrame(src=f\"https://mfr.ca-1.osf.io/render?url=https://osf.io/2mkq4/?direct%26mode=render%26action=download%26mode=render\", width=854, height=480)"
      ],
      "execution_count": null,
      "outputs": [
        {
          "output_type": "execute_result",
          "data": {
            "text/html": [
              "\n",
              "        <iframe\n",
              "            width=\"854\"\n",
              "            height=\"480\"\n",
              "            src=\"https://mfr.ca-1.osf.io/render?url=https://osf.io/2mkq4/?direct%26mode=render%26action=download%26mode=render\"\n",
              "            frameborder=\"0\"\n",
              "            allowfullscreen\n",
              "        ></iframe>\n",
              "        "
            ],
            "text/plain": [
              "<IPython.lib.display.IFrame at 0x7fe661976f90>"
            ]
          },
          "metadata": {
            "tags": []
          },
          "execution_count": 1
        }
      ]
    },
    {
      "cell_type": "markdown",
      "metadata": {
        "id": "Wsw8kBI8rCVE"
      },
      "source": [
        "---\n",
        "# Setup"
      ]
    },
    {
      "cell_type": "code",
      "metadata": {
        "execution": {
          "iopub.execute_input": "2021-07-06T22:27:35.873603Z",
          "iopub.status.busy": "2021-07-06T22:27:35.872913Z",
          "iopub.status.idle": "2021-07-06T22:27:36.456110Z",
          "shell.execute_reply": "2021-07-06T22:27:36.455314Z"
        },
        "id": "NmvaQmF3rCVE"
      },
      "source": [
        "import numpy as np\n",
        "import matplotlib.pyplot as plt\n",
        "from scipy import stats"
      ],
      "execution_count": null,
      "outputs": []
    },
    {
      "cell_type": "code",
      "metadata": {
        "execution": {
          "iopub.execute_input": "2021-07-06T22:27:36.460882Z",
          "iopub.status.busy": "2021-07-06T22:27:36.459687Z",
          "iopub.status.idle": "2021-07-06T22:27:36.548381Z",
          "shell.execute_reply": "2021-07-06T22:27:36.547575Z"
        },
        "id": "Mhwz-q3_rCVF",
        "cellView": "form"
      },
      "source": [
        "#@title Figure Settings\n",
        "import ipywidgets as widgets       # interactive display\n",
        "%config InlineBackend.figure_format = 'retina'\n",
        "plt.style.use(\"https://raw.githubusercontent.com/NeuromatchAcademy/course-content/master/nma.mplstyle\")"
      ],
      "execution_count": null,
      "outputs": []
    },
    {
      "cell_type": "code",
      "metadata": {
        "cellView": "form",
        "execution": {
          "iopub.execute_input": "2021-07-06T22:27:36.555732Z",
          "iopub.status.busy": "2021-07-06T22:27:36.555243Z",
          "iopub.status.idle": "2021-07-06T22:27:36.558606Z",
          "shell.execute_reply": "2021-07-06T22:27:36.558131Z"
        },
        "id": "4zs_KbRSrCVG"
      },
      "source": [
        "# @title Plotting Functions\n",
        "def plot_density_image(x, y, theta, sigma=1, ax=None):\n",
        "  \"\"\" Plots probability distribution of y given x, theta, and sigma\n",
        "\n",
        "  Args:\n",
        "\n",
        "    x (ndarray): An array of shape (samples,) that contains the input values.\n",
        "    y (ndarray): An array of shape (samples,) that contains the corresponding\n",
        "      measurement values to the inputs.\n",
        "    theta (float): Slope parameter\n",
        "    sigma (float): standard deviation of Gaussian noise\n",
        "\n",
        "  \"\"\"\n",
        "\n",
        "  # plot the probability density of p(y|x,theta)\n",
        "  if ax is None:\n",
        "    fig, ax = plt.subplots()\n",
        "\n",
        "  xmin, xmax = np.floor(np.min(x)), np.ceil(np.max(x))\n",
        "  ymin, ymax = np.floor(np.min(y)), np.ceil(np.max(y))\n",
        "  xx = np.linspace(xmin, xmax, 50)\n",
        "  yy = np.linspace(ymin, ymax, 50)\n",
        "\n",
        "  surface = np.zeros((len(yy), len(xx)))\n",
        "  for i, x_i in enumerate(xx):\n",
        "    surface[:, i] = stats.norm(theta * x_i, sigma).pdf(yy)\n",
        "\n",
        "  ax.set(xlabel='x', ylabel='y')\n",
        "\n",
        "  return ax.imshow(surface, origin='lower', aspect='auto', vmin=0, vmax=None,\n",
        "            cmap=plt.get_cmap('Wistia'),\n",
        "            extent=[xmin, xmax, ymin, ymax])"
      ],
      "execution_count": null,
      "outputs": []
    },
    {
      "cell_type": "markdown",
      "metadata": {
        "id": "t_YncwujrCVH"
      },
      "source": [
        "---\n",
        "# Section 1: Maximum Likelihood Estimation (MLE)\n"
      ]
    },
    {
      "cell_type": "code",
      "metadata": {
        "cellView": "form",
        "execution": {
          "iopub.execute_input": "2021-07-06T22:27:36.570253Z",
          "iopub.status.busy": "2021-07-06T22:27:36.566173Z",
          "iopub.status.idle": "2021-07-06T22:27:36.650525Z",
          "shell.execute_reply": "2021-07-06T22:27:36.647331Z"
        },
        "id": "5WKD08cDrCVJ"
      },
      "source": [
        "# @title Video 1: Maximum Likelihood Estimation\n",
        "from ipywidgets import widgets\n",
        "\n",
        "out2 = widgets.Output()\n",
        "with out2:\n",
        "  from IPython.display import IFrame\n",
        "  class BiliVideo(IFrame):\n",
        "      def __init__(self, id, page=1, width=400, height=300, **kwargs):\n",
        "          self.id=id\n",
        "          src = 'https://player.bilibili.com/player.html?bvid={0}&page={1}'.format(id, page)\n",
        "          super(BiliVideo, self).__init__(src, width, height, **kwargs)\n",
        "\n",
        "  video = BiliVideo(id=\"BV1Mg4y1i7WH\", width=854, height=480, fs=1)\n",
        "  print('Video available at https://www.bilibili.com/video/{0}'.format(video.id))\n",
        "  display(video)\n",
        "\n",
        "out1 = widgets.Output()\n",
        "with out1:\n",
        "  from IPython.display import YouTubeVideo\n",
        "  video = YouTubeVideo(id=\"8mpNmzLKNfU\", width=854, height=480, fs=1, rel=0)\n",
        "  print('Video available at https://youtube.com/watch?v=' + video.id)\n",
        "  display(video)\n",
        "\n",
        "out = widgets.Tab([out1, out2])\n",
        "out.set_title(0, 'Youtube')\n",
        "out.set_title(1, 'Bilibili')\n",
        "\n",
        "display(out)"
      ],
      "execution_count": null,
      "outputs": []
    },
    {
      "cell_type": "markdown",
      "metadata": {
        "id": "9220bCmdrCVK"
      },
      "source": [
        "This video covers Maximum Likelihood Estimation (MLE) in the context of a 1D linear regression.\n"
      ]
    },
    {
      "cell_type": "markdown",
      "metadata": {
        "id": "bQmojIqErCVK"
      },
      "source": [
        "## Section 1.1: Gaussian noise"
      ]
    },
    {
      "cell_type": "markdown",
      "metadata": {
        "id": "cvj-Ihf5rCVK"
      },
      "source": [
        "\n",
        "<details>\n",
        "<summary> <font color='blue'>Click here for text recap of relevant part of video </font></summary>\n",
        "\n",
        "In the previous tutorial we made the assumption that the data was drawn from a linear relationship with noise added, and found an effective approach for estimating model parameters based on minimizing the mean squared error.\n",
        "\n",
        "In that case we treated the noise as simply a nuisance, but what if we factored it directly into our model?\n",
        "\n",
        "Recall our linear model:\n",
        "\n",
        "\\begin{align}\n",
        "y = \\theta x + \\epsilon.\n",
        "\\end{align}\n",
        "\n",
        "The noise component $\\epsilon$ is often modeled as a random variable drawn from a Gaussian distribution (also called the normal distribution).\n",
        "\n",
        "The Gaussian distribution is described by its [probability density function](https://en.wikipedia.org/wiki/Probability_density_function) (pdf)\n",
        "\\begin{align}\n",
        "\\mathcal{N}(x; \\mu, \\sigma^2) = \\frac{1}{\\sqrt{2\\pi\\sigma^2}}e^{-\\frac{1}{2\\sigma^2}(x-\\mu)^2}\n",
        "\\end{align}\n",
        "\n",
        "and is dependent on two parameters: the mean $\\mu$ and the variance $\\sigma^2$. We often consider the noise signal to be Gaussian \"white noise\", with zero mean and unit variance:\n",
        "\n",
        "\\begin{align}\n",
        "\\epsilon \\sim \\mathcal{N}(0, 1).\n",
        "\\end{align}\n",
        "\n"
      ]
    },
    {
      "cell_type": "markdown",
      "metadata": {
        "id": "s23_k2z9rCVL"
      },
      "source": [
        "### Interactive Demo 1.1: Gaussian Distribution Explorer\n",
        "\n",
        "Use the explorer widget below to see how varying the $\\mu$ and $\\sigma$ parameters change the location and shape of the samples.\n",
        "\n",
        "\n",
        "1.   What effect does varying $\\mu$ have on the pdf?\n",
        "2.   What effect does varying $\\sigma$ have on the pdf?\n",
        "\n"
      ]
    },
    {
      "cell_type": "code",
      "metadata": {
        "cellView": "form",
        "execution": {
          "iopub.execute_input": "2021-07-06T22:27:36.681920Z",
          "iopub.status.busy": "2021-07-06T22:27:36.681421Z",
          "iopub.status.idle": "2021-07-06T22:27:37.154435Z",
          "shell.execute_reply": "2021-07-06T22:27:37.154870Z"
        },
        "id": "XNFoKX_irCVM",
        "colab": {
          "base_uri": "https://localhost:8080/",
          "height": 494,
          "referenced_widgets": [
            "43e2a7f81abc45049f4c8be0c6cbf03a",
            "18bb68734a2748b191b02f72bcabb4fa",
            "e6bbf30ba0a64f028b075556b98365b0",
            "a718099e24864e1ea060ebbdddccb588",
            "25669162abf54409992b5c1815e9b818",
            "d10094f63d724beba49be5b22bb07f93",
            "4b59db4861a24cf4b5b01e51a372518e",
            "fb09bd81e75a4aac82421dcb11d71449",
            "ad4190de120743a4bee5b7df4a1b41e1",
            "e6cc597767e84563a98c399339fcba83"
          ]
        },
        "outputId": "3e4e21d1-d036-4e56-83d2-dff335274278"
      },
      "source": [
        "# @markdown Make sure you execute this cell to enable the widget!\n",
        "\n",
        "@widgets.interact(mu=widgets.FloatSlider(0.0, min=-2.0, max=2.0),\n",
        "                  sigma=widgets.FloatSlider(1.0, min=0.5, max=2.0))\n",
        "def plot_normal_dist(mu=0, sigma=1):\n",
        "\n",
        "  # Generate pdf & samples from normal distribution with mu/sigma\n",
        "  rv = stats.norm(mu, sigma)\n",
        "  x = np.linspace(-5, 5, 100)\n",
        "  y = rv.pdf(x)\n",
        "  samples = rv.rvs(1000)\n",
        "\n",
        "  # Plot\n",
        "  fig, ax = plt.subplots()\n",
        "  ax.hist(samples, 20, density=True, color='g', histtype='stepfilled', alpha=0.8,\n",
        "          label='histogram')\n",
        "  ax.plot(x, y, color='orange', linewidth=3, label='pdf')\n",
        "  ax.vlines(mu, 0, rv.pdf(mu), color='y', linewidth=3, label='$\\mu$')\n",
        "  ax.vlines([mu-sigma, mu+sigma], 0, rv.pdf([mu-sigma, mu+sigma]), colors='red',\n",
        "            color='b', linewidth=3, label='$\\sigma$')\n",
        "  ax.set(xlabel='x', ylabel='probability density', xlim=[-5, 5], ylim=[0, 1.0])\n",
        "  ax.legend()"
      ],
      "execution_count": null,
      "outputs": [
        {
          "output_type": "display_data",
          "data": {
            "application/vnd.jupyter.widget-view+json": {
              "model_id": "43e2a7f81abc45049f4c8be0c6cbf03a",
              "version_minor": 0,
              "version_major": 2
            },
            "text/plain": [
              "interactive(children=(FloatSlider(value=0.0, description='mu', max=2.0, min=-2.0), FloatSlider(value=1.0, desc…"
            ]
          },
          "metadata": {
            "tags": []
          }
        }
      ]
    },
    {
      "cell_type": "markdown",
      "metadata": {
        "execution": {
          "iopub.execute_input": "2021-07-06T22:27:37.159799Z",
          "iopub.status.busy": "2021-07-06T22:27:37.158917Z",
          "iopub.status.idle": "2021-07-06T22:27:37.164654Z",
          "shell.execute_reply": "2021-07-06T22:27:37.163987Z"
        },
        "id": "_9CFds6CrCVN"
      },
      "source": [
        "[*Click for solution*](https://github.com/NeuromatchAcademy/course-content/tree/master//tutorials/W1D3_ModelFitting/solutions/W1D3_Tutorial2_Solution_79689f11.py)\n",
        "\n"
      ]
    },
    {
      "cell_type": "markdown",
      "metadata": {
        "id": "e80G3uTZrCVN"
      },
      "source": [
        "## Section 1.2: Probabilistic Models\n",
        "\n",
        "*Estimated timing to here from start of tutorial: 11 min*\n",
        "\n",
        "Now that we have a model of our noise component $\\epsilon$ as random variable, how do we incorporate this back into our original linear model from before? Consider again our simplified model $y = \\theta x + \\epsilon$ where the noise has zero mean and unit variance $\\epsilon \\sim \\mathcal{N}(0, 1)$. We can now also treat $y$ as a random variable drawn from a Gaussian distribution where $\\mu = \\theta x$ and $\\sigma^2 = 1$:\n",
        "\n",
        "\\begin{align}\n",
        "y \\sim \\mathcal{N}(\\theta x, 1)\n",
        "\\end{align}\n",
        "\n",
        "which is to say that the probability of observing $y$ given $x$ and parameter $\\theta$ is\n",
        "\\begin{align}\n",
        "p(y|x,\\theta) = \\frac{1}{\\sqrt{2\\pi}}e^{-\\frac{1}{2}(y-\\theta x)^2}\n",
        "\\end{align}\n",
        "\n",
        "\n",
        "Note that in this and the following sections, we will focus on a single data point (a single pairing of $x$ and $y$). We have dropped the subscript $i$ just for simplicity (that is, we use $x$ for a single data point, instead of $x_i$). \n",
        "\n",
        "Now, let's revisit our original sample dataset where the true underlying model has $\\theta = 1.2$."
      ]
    },
    {
      "cell_type": "code",
      "metadata": {
        "execution": {
          "iopub.execute_input": "2021-07-06T22:27:37.169677Z",
          "iopub.status.busy": "2021-07-06T22:27:37.168895Z",
          "iopub.status.idle": "2021-07-06T22:27:37.173190Z",
          "shell.execute_reply": "2021-07-06T22:27:37.172400Z"
        },
        "id": "vhZtclnfrCVO",
        "cellView": "form"
      },
      "source": [
        "# @markdown Execute this cell to generate some simulated data\n",
        "\n",
        "# setting a fixed seed to our random number generator ensures we will always\n",
        "# get the same psuedorandom number sequence\n",
        "\n",
        "np.random.seed(121)\n",
        "theta = 1.2\n",
        "n_samples = 30\n",
        "x = 10 * np.random.rand(n_samples) # sample from a uniform distribution over [0,10)\n",
        "noise = np.random.randn(n_samples) # sample from a standard normal distribution\n",
        "y = theta * x + noise"
      ],
      "execution_count": null,
      "outputs": []
    },
    {
      "cell_type": "markdown",
      "metadata": {
        "id": "1wXAO905rCVO"
      },
      "source": [
        "This time we can plot the density of $p(y|x,\\theta=1.2)$ and see how $p(y)$ changes for different values of $x$."
      ]
    },
    {
      "cell_type": "code",
      "metadata": {
        "cellView": "form",
        "execution": {
          "iopub.execute_input": "2021-07-06T22:27:37.302602Z",
          "iopub.status.busy": "2021-07-06T22:27:37.218495Z",
          "iopub.status.idle": "2021-07-06T22:27:37.736464Z",
          "shell.execute_reply": "2021-07-06T22:27:37.737081Z"
        },
        "id": "2-daTV-CrCVO",
        "colab": {
          "base_uri": "https://localhost:8080/",
          "height": 286
        },
        "outputId": "6b2b92b8-519f-4b3f-debb-3c25d0daa1e6"
      },
      "source": [
        "# @markdown Execute this cell to visualize p(y|x, theta=1.2)\n",
        "\n",
        "fig, (ax1, ax2) = plt.subplots(ncols=2, figsize=(10, 4))\n",
        "\n",
        "# Invokes helper function to generate density image plots from data and parameters\n",
        "im = plot_density_image(x, y, 1.2, ax=ax1)\n",
        "plt.colorbar(im, ax=ax1)\n",
        "ax1.axvline(8, color='k')\n",
        "ax1.set(title=r'p(y | x, $\\theta$=1.2)')\n",
        "\n",
        "# Plot pdf for given x\n",
        "ylim = ax1.get_ylim()\n",
        "yy = np.linspace(ylim[0], ylim[1], 50)\n",
        "ax2.plot(yy, stats.norm(theta * 8, 1).pdf(yy), color='orange', linewidth=2)\n",
        "ax2.set(\n",
        "    title=r'p(y|x=8, $\\theta$=1.2)',\n",
        "    xlabel='y',\n",
        "    ylabel='probability density');"
      ],
      "execution_count": null,
      "outputs": [
        {
          "output_type": "display_data",
          "data": {
            "image/png": "[encoded data removed]",
            "text/plain": [
              "<Figure size 720x288 with 3 Axes>"
            ]
          },
          "metadata": {
            "tags": [],
            "image/png": {
              "width": 702,
              "height": 269
            },
            "needs_background": "light"
          }
        }
      ]
    },
    {
      "cell_type": "markdown",
      "metadata": {
        "id": "EJ-GHhjBrCVO"
      },
      "source": [
        "## Section 1.3: Likelihood Estimation\n",
        "\n",
        "*Estimated timing to here from start of tutorial: 15 min*\n",
        "\n",
        "Now that we have our probabilistic model, we turn back to our original challenge of finding a good estimate for $\\theta$ that fits our data. Given the inherent uncertainty when dealing in probabilities, we talk about the [likelihood](https://en.wikipedia.org/wiki/Likelihood_function) that some estimate $\\hat{\\theta}$ fits our data. The likelihood function $\\mathcal{L}(\\theta)$ is equal to the probability density function parameterized by that $\\theta$:\n",
        "\n",
        "\\begin{align}\n",
        "\\mathcal{L}(\\theta|x,y) = p(y|x,\\theta) = \\frac{1}{\\sqrt{2\\pi\\sigma^2}}e^{-\\frac{1}{2\\sigma^2}(y-\\theta x)^2}\n",
        "\\end{align}"
      ]
    },
    {
      "cell_type": "markdown",
      "metadata": {
        "id": "hHM2DYrDrCVP"
      },
      "source": [
        "### Coding Exercise 1.3: Likelihood Function\n",
        "\n",
        "In this exercise you will implement the likelihood function $\\mathcal{L}(\\theta|x, y)$ for our linear model where $\\sigma = 1$.\n",
        "\n",
        "After implementing this function, we can produce probabilities that our estimate $\\hat{\\theta}$ generated the provided observations. We will try with one of the samples from our dataset.\n",
        "\n",
        "TIP: Use `np.exp` and `np.sqrt` for the exponential and square root functions, respectively."
      ]
    },
    {
      "cell_type": "code",
      "metadata": {
        "execution": {
          "iopub.execute_input": "2021-07-06T22:27:37.743187Z",
          "iopub.status.busy": "2021-07-06T22:27:37.741872Z",
          "iopub.status.idle": "2021-07-06T22:27:37.831113Z",
          "shell.execute_reply": "2021-07-06T22:27:37.829576Z"
        },
        "id": "LkRgRy35rCVP",
        "colab": {
          "base_uri": "https://localhost:8080/"
        },
        "outputId": "41d41d38-600c-4f75-e6b6-1271c07b1702"
      },
      "source": [
        "def likelihood(theta_hat, x, y):\n",
        "  \"\"\"The likelihood function for a linear model with noise sampled from a\n",
        "    Gaussian distribution with zero mean and unit variance.\n",
        "\n",
        "  Args:\n",
        "    theta_hat (float): An estimate of the slope parameter.\n",
        "    x (ndarray): An array of shape (samples,) that contains the input values.\n",
        "    y (ndarray): An array of shape (samples,) that contains the corresponding\n",
        "      measurement values to the inputs.\n",
        "\n",
        "  Returns:\n",
        "    ndarray: the likelihood values for the theta_hat estimate\n",
        "  \"\"\"\n",
        "  sigma = 1\n",
        "  ##############################################################################\n",
        "  ## TODO for students: implement the likelihood function\n",
        "  # Fill out function and remove\n",
        "  # raise NotImplementedError(\"Student exercise: implement the likelihood function\")\n",
        "  ##############################################################################\n",
        "\n",
        "  # Compute Gaussian likelihood\n",
        "  pdf = 1 / np.sqrt(2 * np.pi * sigma**2) * np.exp(-(y - theta_hat * x)**2 / (2 * sigma**2))\n",
        "\n",
        "  return pdf\n",
        "\n",
        "\n",
        "print(likelihood(1.0, x[1], y[1]))"
      ],
      "execution_count": null,
      "outputs": [
        {
          "output_type": "stream",
          "text": [
            "0.11344443599846923\n"
          ],
          "name": "stdout"
        }
      ]
    },
    {
      "cell_type": "markdown",
      "metadata": {
        "cellView": "both",
        "execution": {
          "iopub.execute_input": "2021-07-06T22:27:37.836261Z",
          "iopub.status.busy": "2021-07-06T22:27:37.835720Z",
          "iopub.status.idle": "2021-07-06T22:27:37.839464Z",
          "shell.execute_reply": "2021-07-06T22:27:37.839868Z"
        },
        "id": "twANTpKyrCVQ"
      },
      "source": [
        "[*Click for solution*](https://github.com/NeuromatchAcademy/course-content/tree/master//tutorials/W1D3_ModelFitting/solutions/W1D3_Tutorial2_Solution_328a0c30.py)\n",
        "\n"
      ]
    },
    {
      "cell_type": "markdown",
      "metadata": {
        "id": "LXC16MG8rCVQ"
      },
      "source": [
        "We should see that $\\mathcal{L}(\\theta=1.0|x=2.1,y=3.7) \\approx 0.11$. So far so good, but how does this tell us how this estimate is better than any others?\n",
        "\n",
        "When dealing with a set of data points, as we are with our dataset, we are concerned with their joint probability -- the likelihood that all data points are explained by our parameterization. Since we have assumed that the noise affects each output independently, we can factorize the likelihood, and write:\n",
        "\n",
        "\\begin{align}\n",
        "\\mathcal{L}(\\theta|\\mathbf{x}, \\mathbf{y}) = \\prod_{i=1}^N \\mathcal{L}(\\theta|x_i,y_i),\n",
        "\\end{align}\n",
        "\n",
        "where we have $N$ data points $\\mathbf{x} = [x_1,...,x_N]$ and $\\mathbf{y} = [y_1,...,y_N]$.\n",
        "\n",
        "\n",
        "In practice, such a product can be numerically unstable. Indeed multiplying small values together can lead to [underflow](https://en.wikipedia.org/wiki/Arithmetic_underflow), the situation in which the digital representation of floating point number reaches its limit. This problem can be circumvented by taking the logarithm of the likelihood because the logarithm transforms products into sums:\n",
        "\n",
        "\\begin{align}\n",
        "\\log\\mathcal{L}(\\theta|\\mathbf{x}, \\mathbf{y}) = \\sum_{i=1}^N \\log\\mathcal{L}(\\theta|x_i,y_i)\n",
        "\\end{align}\n",
        "\n",
        "We can take the sum of the log of the output of our `likelihood` method applied to the full dataset to get a better idea of how different $\\hat{\\theta}$ compare. We can also plot the different distribution densities over our dataset and see how they line up qualitatively."
      ]
    },
    {
      "cell_type": "code",
      "metadata": {
        "cellView": "form",
        "execution": {
          "iopub.execute_input": "2021-07-06T22:27:37.898867Z",
          "iopub.status.busy": "2021-07-06T22:27:37.858272Z",
          "iopub.status.idle": "2021-07-06T22:27:38.786446Z",
          "shell.execute_reply": "2021-07-06T22:27:38.786876Z"
        },
        "id": "EgeDNcE0rCVQ"
      },
      "source": [
        "# @markdown Execute this cell to visualize different distribution densities\n",
        "theta_hats = [0.5, 1.0, 2.2]\n",
        "fig, axes = plt.subplots(ncols=3, figsize=(16, 4))\n",
        "for theta_hat, ax in zip(theta_hats, axes):\n",
        "  ll = np.sum(np.log(likelihood(theta_hat, x, y)))  # log likelihood\n",
        "  im = plot_density_image(x, y, theta_hat, ax=ax)\n",
        "  ax.scatter(x, y)\n",
        "  ax.set(title=fr'$\\hat{{\\theta}}$ = {theta_hat}, log likelihood: {ll:.2f}')\n",
        "plt.colorbar(im, ax=ax);"
      ],
      "execution_count": null,
      "outputs": []
    },
    {
      "cell_type": "markdown",
      "metadata": {
        "id": "7zTBJvrgrCVR"
      },
      "source": [
        "Using the log likelihood calculation, we see that $\\mathcal{L}(\\theta=1.0) > \\mathcal{L}(\\theta=0.5) > \\mathcal{L}(\\theta=2.2)$.\n",
        "\n",
        "This is great: now we have a way to compare estimators based on likelihood. But like with the MSE approach, we want an analytic solution to find the best estimator. In this case, we want to find the estimator that maximizes the likelihood.\n"
      ]
    },
    {
      "cell_type": "markdown",
      "metadata": {
        "id": "XjuOgGfsrCVR"
      },
      "source": [
        "## Section 1.4: Finding the Maximum Likelihood Estimator\n",
        "\n",
        "*Estimated timing to here from start of tutorial: 23 min*\n",
        "\n",
        "<details>\n",
        "<summary> <font color='blue'>Click here for text recap of relevant part of video </font></summary>\n",
        "\n",
        "We want to find the parameter value $\\hat\\theta$ that makes our data set most likely:\n",
        "\n",
        "\\begin{align}\n",
        "\\hat{\\theta}_{\\textrm{MLE}} = \\underset{\\theta}{\\operatorname{argmax}} \\mathcal{L}(\\theta|X,Y) \n",
        "\\end{align}\n",
        "\n",
        "We discussed how taking the logarithm of the likelihood helps with numerical stability, the good thing is that it does so without changing the parameter value that maximizes the likelihood. Indeed, the $\\log()$ function is *monotonically increasing*, which means that it preserves the order of its inputs. So we have:\n",
        "\n",
        "\\begin{align}\n",
        "\\hat{\\theta}_{\\textrm{MLE}} = \\underset{\\theta}{\\operatorname{argmax}} \\sum_{i=1}^m \\textrm{log} \\mathcal{L}(\\theta|x_i,y_i) \n",
        "\\end{align}\n",
        "\n",
        "Now substituting our specific likelihood function and taking its logarithm, we get:\n",
        "\\begin{align}\n",
        "\\hat{\\theta}_{\\textrm{MLE}} = \\underset{\\theta}{\\operatorname{argmax}} [-\\frac{N}{2} \\operatorname{log} 2\\pi\\sigma^2 - \\frac{1}{2\\sigma^2}\\sum_{i=1}^N (y_i-\\theta x_i)^2].\n",
        "\\end{align}\n",
        "\n",
        "Note that maximizing the log likelihood is the same as minimizing the negative log likelihood (in practice optimization routines are developed to solve minimization not maximization problems). Because of the convexity of this objective function, we can take the derivative of our negative log likelihhood, set it to 0, and solve - just like our solution to minimizing MSE.\n",
        "\n",
        "\\begin{align}\n",
        "\\frac{\\partial\\operatorname{log}\\mathcal{L}(\\theta|x,y)}{\\partial\\theta}=\\frac{1}{\\sigma^2}\\sum_{i=1}^N(y_i-\\theta x_i)x_i = 0\n",
        "\\end{align}\n",
        "\n",
        "This looks remarkably like the equation we had to solve for the optimal MSE estimator, and, in fact, we arrive to the exact same solution!\n",
        "\n",
        "\\begin{align}\n",
        "\\hat{\\theta}_{\\textrm{MLE}} = \\hat{\\theta}_{\\textrm{MSE}} = \\frac{\\sum_{i=1}^N x_i y_i}{\\sum_{i=1}^N x_i^2}\n",
        "\\end{align}"
      ]
    },
    {
      "cell_type": "code",
      "metadata": {
        "execution": {
          "iopub.execute_input": "2021-07-06T22:27:38.790500Z",
          "iopub.status.busy": "2021-07-06T22:27:38.790004Z",
          "iopub.status.idle": "2021-07-06T22:27:38.792561Z",
          "shell.execute_reply": "2021-07-06T22:27:38.792116Z"
        },
        "id": "j2e1qcjjrCVR"
      },
      "source": [
        "# Compute theta_hat_MLE\n",
        "theta_hat_mle = (x @ y) / (x @ x)"
      ],
      "execution_count": null,
      "outputs": []
    },
    {
      "cell_type": "code",
      "metadata": {
        "cellView": "form",
        "execution": {
          "iopub.execute_input": "2021-07-06T22:27:38.814710Z",
          "iopub.status.busy": "2021-07-06T22:27:38.813978Z",
          "iopub.status.idle": "2021-07-06T22:27:39.340014Z",
          "shell.execute_reply": "2021-07-06T22:27:39.341064Z"
        },
        "id": "nDDlrPfdrCVR"
      },
      "source": [
        "#@title\n",
        "#@markdown Execute this cell to visualize density with theta_hat_mle\n",
        "\n",
        "# Plot the resulting distribution density\n",
        "fig, ax = plt.subplots()\n",
        "ll = np.sum(np.log(likelihood(theta_hat_mle, x, y))) # log likelihood\n",
        "im = plot_density_image(x, y, theta_hat_mle, ax=ax)\n",
        "plt.colorbar(im, ax=ax);\n",
        "ax.scatter(x, y)\n",
        "ax.set(title=fr'$\\hat{{\\theta}}$ = {theta_hat_mle:.2f}, log likelihood: {ll:.2f}');"
      ],
      "execution_count": null,
      "outputs": []
    },
    {
      "cell_type": "markdown",
      "metadata": {
        "id": "PLgehKgJrCVR"
      },
      "source": [
        "---\n",
        "# Summary\n",
        "\n",
        "*Estimated timing of tutorial: 30 minutes*\n",
        "\n",
        "\n",
        "Likelihood vs probability:\n",
        "\n",
        "  - $\\mathcal{L}(\\theta|x, y) = p(y|x, \\theta)$\n",
        "  - $p(y|x, \\theta)$ -> \"probability of observing the response $y$ given parameter $\\theta$ and input $x$\"\n",
        "  - $\\mathcal{L}(\\theta|x, y)$ -> \"likelihood model that parameters $\\theta$ produced response $y$ from input $x$\"\n",
        "\n",
        "Log-likelihood maximization:\n",
        "\n",
        "  - We take the $\\log$ of the likelihood function for computational convenience\n",
        "  - The parameters $\\theta$ that maximize $\\log\\mathcal{L}(\\theta|x, y)$ are the model parameters that maximize the probability of observing the data.\n",
        "\n",
        "**Key point**: the log-likelihood is a flexible cost function, and is often used to find model parameters that best fit the data."
      ]
    },
    {
      "cell_type": "markdown",
      "metadata": {
        "id": "A0szfVgXrCVS"
      },
      "source": [
        "\n",
        "---\n",
        "# Notation\n",
        "\n",
        "\\begin{align}\n",
        "x &\\quad \\text{input, independent variable}\\\\\n",
        "y &\\quad \\text{response measurement, dependent variable}\\\\\n",
        "\\mathbf{x} &\\quad \\text{vector of input values}\\\\\n",
        "\\mathbf{y} &\\quad \\text{vector of measurements}\\\\\n",
        "\\epsilon &\\quad \\text{measurement error, noise contribution}\\\\\n",
        "\\epsilon \\sim \\mathcal{N}(\\mu, \\sigma^2) &\\quad \\text{random variable } \\epsilon \\text{ is distributed according to a Gaussian distribution, with mean } \\mu \\text{ and variance } \\sigma^2\\\\\n",
        "\\mu &\\quad \\text{mean}\\\\\n",
        "\\sigma^2 &\\quad \\text{variance}\\\\\n",
        "\\sigma &\\quad \\text{standard deviation}\\\\\n",
        "\\theta &\\quad \\text{parameter}\\\\\n",
        "\\hat{\\theta} &\\quad \\text{estimate of parameter}\\\\\n",
        "\\mathcal{L}(\\theta|x, y) &\\quad \\text{likelihood of that parameter } \\theta \\text{ producing response } y \\text{ from input } x \\\\ \n",
        "p(y|x, \\theta) &\\quad \\text{probability of observing the response } y \\text{ given input } x \\text{ and parameter } \\theta \\\\ \n",
        "\\end{align}"
      ]
    },
    {
      "cell_type": "markdown",
      "metadata": {
        "id": "MFlKMUairCVS"
      },
      "source": [
        "---\n",
        "# Bonus"
      ]
    },
    {
      "cell_type": "markdown",
      "metadata": {
        "id": "kZalYTMdrCVS"
      },
      "source": [
        "We can also see $\\mathrm{p}(\\mathrm{y} | \\mathrm{x}, \\theta)$ as a function of $x$. This is the stimulus likelihood function, and it is useful in case we want to decode the input $x$ from observed responses $y$. This is what is relevant from the point of view of a neuron that does not have access to the outside world and tries to infer what's out there from the responses of other neurons!\n",
        "\n",
        "\n",
        "\n"
      ]
    }
  ]
}